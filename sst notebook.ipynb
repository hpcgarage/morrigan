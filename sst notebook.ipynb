{
 "cells": [
  {
   "cell_type": "markdown",
   "metadata": {},
   "source": [
    "# SST Prospero Tutorial/Documentation\n",
    "\n",
    "The intent is to add more SST related material in the future, most notably work with Miranda."
   ]
  },
  {
   "cell_type": "markdown",
   "metadata": {},
   "source": [
    "The first step is to install the morrigan repo on your machine so you can build SST. The repo can be found at this link https://github.com/hpcgarage/morrigan \n",
    "Run the following in your terminal:"
   ]
  },
  {
   "cell_type": "raw",
   "metadata": {},
   "source": [
    "git clone git@github.com:hpcgarage/morrigan.git\n",
    "cd morrigan\n",
    "git submodule update --init --recursive"
   ]
  },
  {
   "cell_type": "markdown",
   "metadata": {},
   "source": [
    "After the repo is cloned, more explicit instructions for building on different machines can be found in the readme within Morrigan"
   ]
  },
  {
   "cell_type": "markdown",
   "metadata": {},
   "source": [
    "This is a sample configuration file for Prospero in Python. Here we specify architecture \n",
    "and other useful parameters such as cache line and where the trace is coming from \n"
   ]
  },
  {
   "cell_type": "raw",
   "metadata": {},
   "source": [
    "# Automatically generated SST Python input\n",
    "import sst\n",
    "\n",
    "# Define SST core options\n",
    "sst.setProgramOption(\"timebase\", \"1ps\")\n",
    "sst.setProgramOption(\"stopAtCycle\", \"1000000ns\")\n",
    "\n",
    "# Define the simulation components\n",
    "comp_cpu = sst.Component(\"cpu\", \"prospero.prospero\")\n",
    "comp_cpu.addParams({\n",
    "      \"physlimit\" : \"\"\"512\"\"\",\n",
    "      \"tracetype\" : \"\"\"file\"\"\",\n",
    "      \"outputlevel\" : \"\"\"0\"\"\",\n",
    "      \"cache_line\" : \"\"\"64\"\"\",\n",
    "      \"trace\" : \"\"\"traces/pinatrace.out\"\"\"\n",
    "})\n",
    "comp_l1cache = sst.Component(\"l1cache\", \"memHierarchy.Cache\")\n",
    "comp_l1cache.addParams({\n",
    "      \"access_latency_cycles\" : \"\"\"1\"\"\",\n",
    "      \"cache_frequency\" : \"\"\"2 Ghz\"\"\",\n",
    "      \"replacement_policy\" : \"\"\"lru\"\"\",\n",
    "      \"coherence_protocol\" : \"\"\"MSI\"\"\",\n",
    "      \"associativity\" : \"\"\"8\"\"\",\n",
    "      \"cache_line_size\" : \"\"\"64\"\"\",\n",
    "      \"statistics\" : \"\"\"1\"\"\",\n",
    "      \"L1\" : \"\"\"1\"\"\",\n",
    "      \"cache_size\" : \"\"\"64 KB\"\"\"\n",
    "})\n",
    "comp_memory = sst.Component(\"memory\", \"memHierarchy.MemController\")\n",
    "comp_memory.addParams({\n",
    "      \"coherence_protocol\" : \"\"\"MSI\"\"\",\n",
    "      \"system_ini\" : \"\"\"system.ini\"\"\",\n",
    "      \"clock\" : \"\"\"1GHz\"\"\",\n",
    "      \"access_time\" : \"\"\"1000 ns\"\"\",\n",
    "      \"device_ini\" : \"\"\"DDR3_micron_32M_8B_x4_sg125.ini\"\"\",\n",
    "      \"mem_size\" : \"\"\"512\"\"\",\n",
    "      \"backend\" : \"\"\"memHierarchy.dramsim\"\"\"\n",
    "})\n",
    "\n",
    "\n",
    "# Define the simulation links\n",
    "link_cpu_cache_link = sst.Link(\"link_cpu_cache_link\")\n",
    "link_cpu_cache_link.connect( (comp_cpu, \"cache_link\", \"1000ps\"), (comp_l1cache, \"high_network_0\", \"1000ps\") )\n",
    "link_mem_bus_link = sst.Link(\"link_mem_bus_link\")\n",
    "link_mem_bus_link.connect( (comp_l1cache, \"low_network_0\", \"50ps\"), (comp_memory, \"direct_link\", \"50ps\") )\n",
    "# End of generated output."
   ]
  },
  {
   "cell_type": "markdown",
   "metadata": {},
   "source": [
    "Prospero comes with a built in trace generator. In order to run Prospero we first need to generate and store a trace from our desired applicatoin"
   ]
  },
  {
   "cell_type": "code",
   "execution_count": null,
   "metadata": {},
   "outputs": [],
   "source": [
    "How exactly do we trace an application using the tool"
   ]
  },
  {
   "cell_type": "code",
   "execution_count": null,
   "metadata": {},
   "outputs": [],
   "source": [
    "Why is SST not found"
   ]
  }
 ],
 "metadata": {
  "kernelspec": {
   "display_name": "Python 3 (ipykernel)",
   "language": "python",
   "name": "python3"
  },
  "language_info": {
   "codemirror_mode": {
    "name": "ipython",
    "version": 3
   },
   "file_extension": ".py",
   "mimetype": "text/x-python",
   "name": "python",
   "nbconvert_exporter": "python",
   "pygments_lexer": "ipython3",
   "version": "3.10.8"
  },
  "vscode": {
   "interpreter": {
    "hash": "5c7b89af1651d0b8571dde13640ecdccf7d5a6204171d6ab33e7c296e100e08a"
   }
  }
 },
 "nbformat": 4,
 "nbformat_minor": 2
}
