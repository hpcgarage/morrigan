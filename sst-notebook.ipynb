{
 "cells": [
  {
   "cell_type": "markdown",
   "metadata": {},
   "source": [
    "# SST Prospero Tutorial/Documentation\n",
    "\n",
    "The intent is to add more SST related material in the future, most notably work with Prospero and Miranda."
   ]
  },
  {
   "cell_type": "markdown",
   "metadata": {},
   "source": [
    "The first step is to install the morrigan repo on your machine so you can build SST. The repo can be found at this link https://github.com/hpcgarage/morrigan \n",
    "Run the following in your terminal:"
   ]
  },
  {
   "cell_type": "raw",
   "metadata": {},
   "source": [
    "git clone git@github.com:hpcgarage/morrigan.git\n",
    "cd morrigan\n",
    "git submodule update --init --recursive"
   ]
  },
  {
   "cell_type": "markdown",
   "metadata": {},
   "source": [
    "After the repo is cloned, more explicit instructions for building on different machines can be found in the readme within Morrigan"
   ]
  },
  {
   "cell_type": "markdown",
   "metadata": {},
   "source": [
    "This is a sample configuration file for Prospero in Python. Here we specify architecture \n",
    "and other useful parameters such as cache line and where the trace is coming from \n"
   ]
  },
  {
   "cell_type": "raw",
   "metadata": {},
   "source": [
    "# Automatically generated SST Python input\n",
    "import sst\n",
    "dramsim3_params = æ\n",
    "    \"access_time\" : \"1000ns\",\n",
    "    \"config_ini\"  : \"../DRAMsim3/configs/DDR3_1Gb_x8_1333.ini\",\n",
    "    \"mem_size\"    : \"1GiB\",\n",
    "å\n",
    "# Define SST core options\n",
    "sst.setProgramOption(\"timebase\", \"1ps\")\n",
    "sst.setProgramOption(\"stopAtCycle\", \"1000000ns\")\n",
    "\n",
    "# Define the simulation components\n",
    "comp_cpu = sst.Component(\"cpu\", \"prospero.prosperoCPU\")\n",
    "comp_cpu.addParams(æ\n",
    "      \"physlimit\" : \"\"\"512\"\"\",\n",
    "      \"tracetype\" : \"\"\"file\"\"\",\n",
    "      \"outputlevel\" : \"\"\"0\"\"\",\n",
    "      \"cache_line\" : \"\"\"64\"\"\",\n",
    "      \"file\" : \"\"\"traces/test-0-0.trace\"\"\"\n",
    "å)\n",
    "reader = comp_cpu.setSubComponent(\"reader\", \"prospero.ProsperoTextTraceReader\")\n",
    "reader.addParams(æ\n",
    "    \"file\"   : \"traces/test-0-0.trace\",\n",
    "å)\n",
    "comp_l1cache = sst.Component(\"l1cache\", \"memHierarchy.Cache\")\n",
    "comp_l1cache.addParams(æ\n",
    "      \"access_latency_cycles\" : \"\"\"1\"\"\",\n",
    "      \"cache_frequency\" : \"\"\"2 Ghz\"\"\",\n",
    "      \"replacement_policy\" : \"\"\"lru\"\"\",\n",
    "      \"coherence_protocol\" : \"\"\"MSI\"\"\",\n",
    "      \"associativity\" : \"\"\"8\"\"\",\n",
    "      \"cache_line_size\" : \"\"\"64\"\"\",\n",
    "      \"statistics\" : \"\"\"1\"\"\",\n",
    "      \"L1\" : \"\"\"1\"\"\",\n",
    "      \"cache_size\" : \"\"\"64 KB\"\"\"\n",
    "å)\n",
    "comp_memory = sst.Component(\"memory\", \"memHierarchy.MemController\")\n",
    "comp_memory.addParams(æ\n",
    "      \"coherence_protocol\" : \"\"\"MSI\"\"\",\n",
    "      \"system_ini\" : \"\"\"system.ini\"\"\",\n",
    "      \"clock\" : \"\"\"1GHz\"\"\",\n",
    "      \"access_time\" : \"\"\"1000 ns\"\"\",\n",
    "      \"device_ini\" : \"\"\"DDR3_micron_32M_8B_x4_sg125.ini\"\"\",\n",
    "      \"mem_size\" : \"\"\"512\"\"\",\n",
    "å)\n",
    "        \n",
    "memory = comp_memory.setSubComponent(\"backend\", \"memHierarchy.dramsim3\")\n",
    "memory.addParams(dramsim3_params)\n",
    "# Define the simulation links\n",
    "link_cpu_cache_link = sst.Link(\"link_cpu_cache_link\")\n",
    "link_cpu_cache_link.connect( (comp_cpu, \"cache_link\", \"1000ps\"), (comp_l1cache, \"high_network_0\", \"1000ps\") )\n",
    "link_mem_bus_link = sst.Link(\"link_mem_bus_link\")\n",
    "link_mem_bus_link.connect( (comp_l1cache, \"low_network_0\", \"50ps\"), (comp_memory, \"direct_link\", \"50ps\") )\n",
    "# End of generated output. # Enable SST Statistics Outputs for this simulation\n",
    "sst.setStatisticLoadLevel(4)\n",
    "sst.enableAllStatisticsForAllComponents({\"type\":\"sst.AccumulatorStatistic\"})\n",
    "\n",
    "sst.setStatisticOutput(\"sst.statOutputCSV\")\n",
    "sst.setStatisticOutputOptions( {\n",
    "    \"filepath\"  : \"./prosperoTest.csv\",\n",
    "    \"separator\" : \", \"\n",
    "} )\n"
   ]
  },
  {
   "cell_type": "markdown",
   "metadata": {},
   "source": [
    "This exact file can be found in the example directory within morrigan under the name prosperoTest.py"
   ]
  },
  {
   "cell_type": "markdown",
   "metadata": {},
   "source": [
    "Prospero comes with a built in trace generator. In order to run Prospero we first need to generate and store a trace from our desired application. The sample trace in the python configuration file is provided through the path specified in example/traces"
   ]
  },
  {
   "cell_type": "markdown",
   "metadata": {},
   "source": [
    "To run Prospero using the configuration file above, navigate to the example directory in the command line, type:"
   ]
  },
  {
   "cell_type": "raw",
   "metadata": {},
   "source": [
    "sst prosperoTest.py"
   ]
  },
  {
   "cell_type": "markdown",
   "metadata": {},
   "source": [
    "The command follows the syntax: \"sst {filename}\"\n",
    "The command: \"sst-info\" is also very useful for giving more information about specific componenets.\n",
    "If I want more information on prospero I could use"
   ]
  },
  {
   "cell_type": "raw",
   "metadata": {},
   "source": [
    "sst-info prospero"
   ]
  },
  {
   "cell_type": "markdown",
   "metadata": {},
   "source": [
    "# Acquiring a Trace with prospero"
   ]
  },
  {
   "cell_type": "markdown",
   "metadata": {},
   "source": [
    "We have seen how to run prospero on sample trace data, but it is also possible to provide your own trace using a built in tool"
   ]
  },
  {
   "cell_type": "markdown",
   "metadata": {},
   "source": [
    " The trace tool follows the format of:"
   ]
  },
  {
   "cell_type": "raw",
   "metadata": {},
   "source": [
    "sst-prospero-trace trace-options -- app app-options"
   ]
  },
  {
   "cell_type": "raw",
   "metadata": {},
   "source": [
    "The tracing options are as follows: \n",
    "Trace-Options:\n",
    "  -o <file>     Name of trace output files.\n",
    "  -f <format>   Output <format> = text, binary, compressed\n",
    "  -t <maxthr>   Maximum number of threads to trace, if not set will search for OMP_NUM_THREADS or set to 1"
   ]
  },
  {
   "cell_type": "markdown",
   "metadata": {},
   "source": [
    "Let's say we want to trace the linux \"ls\" command without any options/flags"
   ]
  },
  {
   "cell_type": "raw",
   "metadata": {},
   "source": [
    "sst-prospero-trace -o test -- ls"
   ]
  },
  {
   "cell_type": "markdown",
   "metadata": {},
   "source": [
    "Now, this trace is saved under the working directory this command was ran in"
   ]
  },
  {
   "cell_type": "markdown",
   "metadata": {},
   "source": [
    "# Output"
   ]
  },
  {
   "cell_type": "markdown",
   "metadata": {},
   "source": [
    "The Statistics Output from running our configuration file above will be stored in \"prospero.csv\", this is denoted within the end of the configuration file by enabling and configuring the sst statistics output. Load level can be changed to inform how many different statistics are provided."
   ]
  },
  {
   "cell_type": "code",
   "execution_count": null,
   "metadata": {},
   "outputs": [],
   "source": []
  }
 ],
 "metadata": {
  "kernelspec": {
   "display_name": "Python 3 (ipykernel)",
   "language": "python",
   "name": "python3"
  },
  "language_info": {
   "codemirror_mode": {
    "name": "ipython",
    "version": 3
   },
   "file_extension": ".py",
   "mimetype": "text/x-python",
   "name": "python",
   "nbconvert_exporter": "python",
   "pygments_lexer": "ipython3",
   "version": "3.10.8"
  },
  "vscode": {
   "interpreter": {
    "hash": "5c7b89af1651d0b8571dde13640ecdccf7d5a6204171d6ab33e7c296e100e08a"
   }
  }
 },
 "nbformat": 4,
 "nbformat_minor": 2
}
